{
 "cells": [
  {
   "cell_type": "code",
   "execution_count": 17,
   "metadata": {},
   "outputs": [],
   "source": [
    "import pandas as pd\n",
    "import matplotlib.pyplot as plt"
   ]
  },
  {
   "cell_type": "code",
   "execution_count": 3,
   "metadata": {
    "collapsed": true
   },
   "outputs": [],
   "source": [
    "df = pd.read_csv('all_items_cleaned.csv')"
   ]
  },
  {
   "cell_type": "code",
   "execution_count": 6,
   "metadata": {},
   "outputs": [
    {
     "name": "stdout",
     "output_type": "stream",
     "text": [
      "<class 'pandas.core.frame.DataFrame'>\n",
      "RangeIndex: 9855 entries, 0 to 9854\n",
      "Data columns (total 7 columns):\n",
      "Description    7050 non-null object\n",
      "Latitude       7557 non-null float64\n",
      "Location       9855 non-null object\n",
      "Longitude      7557 non-null float64\n",
      "Price          9845 non-null float64\n",
      "Title          9855 non-null object\n",
      "Url            9855 non-null object\n",
      "dtypes: float64(3), object(4)\n",
      "memory usage: 539.0+ KB\n"
     ]
    }
   ],
   "source": [
    "df.info()"
   ]
  },
  {
   "cell_type": "code",
   "execution_count": 4,
   "metadata": {},
   "outputs": [
    {
     "data": {
      "text/html": [
       "<div>\n",
       "<style>\n",
       "    .dataframe thead tr:only-child th {\n",
       "        text-align: right;\n",
       "    }\n",
       "\n",
       "    .dataframe thead th {\n",
       "        text-align: left;\n",
       "    }\n",
       "\n",
       "    .dataframe tbody tr th {\n",
       "        vertical-align: top;\n",
       "    }\n",
       "</style>\n",
       "<table border=\"1\" class=\"dataframe\">\n",
       "  <thead>\n",
       "    <tr style=\"text-align: right;\">\n",
       "      <th></th>\n",
       "      <th>Description</th>\n",
       "      <th>Latitude</th>\n",
       "      <th>Location</th>\n",
       "      <th>Longitude</th>\n",
       "      <th>Price</th>\n",
       "      <th>Title</th>\n",
       "      <th>Url</th>\n",
       "    </tr>\n",
       "  </thead>\n",
       "  <tbody>\n",
       "    <tr>\n",
       "      <th>0</th>\n",
       "      <td>NaN</td>\n",
       "      <td>35.462248</td>\n",
       "      <td>Canton, NC</td>\n",
       "      <td>-82.864510</td>\n",
       "      <td>200.0</td>\n",
       "      <td>brown wooden console table</td>\n",
       "      <td>https://us.letgo.com/en/i/brown-wooden-console...</td>\n",
       "    </tr>\n",
       "    <tr>\n",
       "      <th>1</th>\n",
       "      <td>94 Chevy Astro Van,..208,000 miles..Runs and d...</td>\n",
       "      <td>35.536222</td>\n",
       "      <td>Canton, NC</td>\n",
       "      <td>-82.809232</td>\n",
       "      <td>1400.0</td>\n",
       "      <td>Chevrolet - Astro - 1994</td>\n",
       "      <td>https://us.letgo.com/en/i/Chevrolet-Astro-1994...</td>\n",
       "    </tr>\n",
       "    <tr>\n",
       "      <th>2</th>\n",
       "      <td>54 Inch Light Bar...New never been installed.....</td>\n",
       "      <td>35.536222</td>\n",
       "      <td>Canton, NC</td>\n",
       "      <td>-82.809232</td>\n",
       "      <td>80.0</td>\n",
       "      <td>54 Inch Light Bar</td>\n",
       "      <td>https://us.letgo.com/en/i/54-Inch-Light-Bar_fb...</td>\n",
       "    </tr>\n",
       "    <tr>\n",
       "      <th>3</th>\n",
       "      <td>Right handed golf clubs</td>\n",
       "      <td>35.657393</td>\n",
       "      <td>Leicester, NC</td>\n",
       "      <td>-82.705152</td>\n",
       "      <td>40.0</td>\n",
       "      <td>Jr Tour Golf Clubs</td>\n",
       "      <td>https://us.letgo.com/en/i/Jr-Tour-Golf-Clubs_4...</td>\n",
       "    </tr>\n",
       "    <tr>\n",
       "      <th>4</th>\n",
       "      <td>NaN</td>\n",
       "      <td>35.580766</td>\n",
       "      <td>Asheville, NC</td>\n",
       "      <td>-82.622581</td>\n",
       "      <td>80.0</td>\n",
       "      <td>Glass vase</td>\n",
       "      <td>https://us.letgo.com/en/i/Glass-vase_ebaad5f6-...</td>\n",
       "    </tr>\n",
       "  </tbody>\n",
       "</table>\n",
       "</div>"
      ],
      "text/plain": [
       "                                         Description   Latitude  \\\n",
       "0                                                NaN  35.462248   \n",
       "1  94 Chevy Astro Van,..208,000 miles..Runs and d...  35.536222   \n",
       "2  54 Inch Light Bar...New never been installed.....  35.536222   \n",
       "3                            Right handed golf clubs  35.657393   \n",
       "4                                                NaN  35.580766   \n",
       "\n",
       "        Location  Longitude   Price                       Title  \\\n",
       "0     Canton, NC -82.864510   200.0  brown wooden console table   \n",
       "1     Canton, NC -82.809232  1400.0    Chevrolet - Astro - 1994   \n",
       "2     Canton, NC -82.809232    80.0           54 Inch Light Bar   \n",
       "3  Leicester, NC -82.705152    40.0          Jr Tour Golf Clubs   \n",
       "4  Asheville, NC -82.622581    80.0                  Glass vase   \n",
       "\n",
       "                                                 Url  \n",
       "0  https://us.letgo.com/en/i/brown-wooden-console...  \n",
       "1  https://us.letgo.com/en/i/Chevrolet-Astro-1994...  \n",
       "2  https://us.letgo.com/en/i/54-Inch-Light-Bar_fb...  \n",
       "3  https://us.letgo.com/en/i/Jr-Tour-Golf-Clubs_4...  \n",
       "4  https://us.letgo.com/en/i/Glass-vase_ebaad5f6-...  "
      ]
     },
     "execution_count": 4,
     "metadata": {},
     "output_type": "execute_result"
    }
   ],
   "source": [
    "df.head()"
   ]
  },
  {
   "cell_type": "code",
   "execution_count": 5,
   "metadata": {},
   "outputs": [
    {
     "data": {
      "text/html": [
       "<div>\n",
       "<style>\n",
       "    .dataframe thead tr:only-child th {\n",
       "        text-align: right;\n",
       "    }\n",
       "\n",
       "    .dataframe thead th {\n",
       "        text-align: left;\n",
       "    }\n",
       "\n",
       "    .dataframe tbody tr th {\n",
       "        vertical-align: top;\n",
       "    }\n",
       "</style>\n",
       "<table border=\"1\" class=\"dataframe\">\n",
       "  <thead>\n",
       "    <tr style=\"text-align: right;\">\n",
       "      <th></th>\n",
       "      <th>Latitude</th>\n",
       "      <th>Longitude</th>\n",
       "      <th>Price</th>\n",
       "    </tr>\n",
       "  </thead>\n",
       "  <tbody>\n",
       "    <tr>\n",
       "      <th>count</th>\n",
       "      <td>7557.000000</td>\n",
       "      <td>7557.000000</td>\n",
       "      <td>9845.000000</td>\n",
       "    </tr>\n",
       "    <tr>\n",
       "      <th>mean</th>\n",
       "      <td>35.520265</td>\n",
       "      <td>-82.549685</td>\n",
       "      <td>896.644407</td>\n",
       "    </tr>\n",
       "    <tr>\n",
       "      <th>std</th>\n",
       "      <td>0.264191</td>\n",
       "      <td>0.696825</td>\n",
       "      <td>3555.544252</td>\n",
       "    </tr>\n",
       "    <tr>\n",
       "      <th>min</th>\n",
       "      <td>31.454073</td>\n",
       "      <td>-111.740600</td>\n",
       "      <td>0.000000</td>\n",
       "    </tr>\n",
       "    <tr>\n",
       "      <th>25%</th>\n",
       "      <td>35.441123</td>\n",
       "      <td>-82.660464</td>\n",
       "      <td>12.000000</td>\n",
       "    </tr>\n",
       "    <tr>\n",
       "      <th>50%</th>\n",
       "      <td>35.541472</td>\n",
       "      <td>-82.549100</td>\n",
       "      <td>40.000000</td>\n",
       "    </tr>\n",
       "    <tr>\n",
       "      <th>75%</th>\n",
       "      <td>35.604691</td>\n",
       "      <td>-82.475475</td>\n",
       "      <td>163.000000</td>\n",
       "    </tr>\n",
       "    <tr>\n",
       "      <th>max</th>\n",
       "      <td>41.296200</td>\n",
       "      <td>-77.560700</td>\n",
       "      <td>63900.000000</td>\n",
       "    </tr>\n",
       "  </tbody>\n",
       "</table>\n",
       "</div>"
      ],
      "text/plain": [
       "          Latitude    Longitude         Price\n",
       "count  7557.000000  7557.000000   9845.000000\n",
       "mean     35.520265   -82.549685    896.644407\n",
       "std       0.264191     0.696825   3555.544252\n",
       "min      31.454073  -111.740600      0.000000\n",
       "25%      35.441123   -82.660464     12.000000\n",
       "50%      35.541472   -82.549100     40.000000\n",
       "75%      35.604691   -82.475475    163.000000\n",
       "max      41.296200   -77.560700  63900.000000"
      ]
     },
     "execution_count": 5,
     "metadata": {},
     "output_type": "execute_result"
    }
   ],
   "source": [
    "df.describe()"
   ]
  },
  {
   "cell_type": "code",
   "execution_count": 7,
   "metadata": {},
   "outputs": [
    {
     "data": {
      "text/plain": [
       "array(['Canton, NC', 'Leicester, NC', 'Asheville, NC', 'Candler, NC',\n",
       "       'Marshall, NC', 'Waynesville, NC', 'Fletcher, NC',\n",
       "       'Hendersonville, NC', 'Old Fort, NC', 'Horse Shoe, NC',\n",
       "       'Black Mountain, NC', 'Maggie Valley, NC', 'Burnsville, NC',\n",
       "       'Weaverville, NC', 'Zirconia, NC', 'Swannanoa, NC',\n",
       "       'Hot Springs, NC', 'Arden, NC', 'East Flat Rock, NC', 'Marion, NC',\n",
       "       'Mars Hill, NC', 'Flat Rock, NC', 'Rutherfordton, NC', 'Clyde, NC',\n",
       "       'Saluda, NC', 'Alexander, NC', 'Fairview, NC', 'Mill Spring, NC',\n",
       "       'Brevard, NC', 'Mills River, NC', 'Penrose, NC',\n",
       "       'Pisgah Forest, NC', 'Barnardsville, NC', 'Etowah, NC',\n",
       "       'Travelers Rest, SC', 'Lake Lure, NC', 'Montreat, NC', 'Dana, NC',\n",
       "       'Greenville, SC', 'Flag Pond, TN', 'Laurel Park, NC', 'Cowpens, NC',\n",
       "       'Tryon, NC', 'Franklin, NC', 'Unspecified', 'Greeneville, TN',\n",
       "       'Lake Junaluska, NC', 'Bristol, TN', 'Calhoun, GA', 'Whittier, NC',\n",
       "       'Bostic, NC', 'Reynolds, NC', 'Highlands, NC', 'Knoxville, TN',\n",
       "       'Newport, TN', 'Hickory, NC', 'Asheboro, NC', 'Spartanburg, SC',\n",
       "       'Jonesville, NC', 'Gaffney, SC', 'Randleman, NC', 'Maryville, TN',\n",
       "       'Rutledge, TN', 'Morganton, NC', 'Sylva, NC', 'Dawsonville, GA',\n",
       "       'Chadbourn, NC', 'Taylors, SC', 'Oakley, NC', 'Charlotte, NC',\n",
       "       'Morristown, TN', 'Talbott, TN', 'Harmony, NC', 'Sevierville, TN',\n",
       "       'Newland, NC', 'Kodak, TN', 'Edneyville, NC', 'Morristown, NC',\n",
       "       'Forest City, NC', 'Greensboro, NC', 'Spruce Pine, NC',\n",
       "       'Shelby, NC', 'Tazewell, TN', 'Bakersville, NC',\n",
       "       'Mountain Home, NC', 'Clarkesville, GA', 'Chesnee, SC',\n",
       "       'Pineville, NC', 'Elizabethton, TN', 'Oteen, NC', 'Liberty, SC',\n",
       "       'Simpsonville, SC', 'Boone, NC', 'Clayton, GA', 'Bat Cave, NC',\n",
       "       'Johnson City, TN', 'Bryson City, NC', 'Fayetteville, NC',\n",
       "       'Charleston, SC', 'Grayson, GA', 'Murphy, NC', 'Inman, SC',\n",
       "       'Douglas, GA', 'Columbus, NC', 'Glenville, NC', 'Easley, SC',\n",
       "       'Durham, NC', 'Clinton, TN', 'Piedmont, SC', 'Waxhaw, NC',\n",
       "       'La Follette, TN', 'Cashiers, NC', 'Nebo, NC', 'Yadkinville, NC',\n",
       "       'Toccoa, GA', 'Monroe, NC', 'Boiling Springs, SC', 'Cornelia, NC',\n",
       "       'Sparta, NC', 'Cherokee, NC', 'Harriman, TN', 'Limestone, TN',\n",
       "       'Kingsport, TN', 'Laurel Hill, NC', 'Andrews, NC',\n",
       "       'Moncks Corner, SC', 'Cullowhee, NC', 'Clover, SC', 'Hiawassee, GA',\n",
       "       'Pigeon Forge, TN', 'Unicoi, TN', 'Gray, TN', 'Rosman, NC',\n",
       "       'Benson, NC', 'Anderson, SC', 'Lake Toxaway, NC',\n",
       "       'Cedar Mountain, NC', 'Chattanooga, TN', 'Turtletown, TN',\n",
       "       'Almond, NC', 'Greenwood, SC', 'Lansing, NC', 'Wartburg, TN',\n",
       "       'Cherryville, NC', 'Hildebran, NC', 'Raleigh, NC', 'Mooresboro, NC',\n",
       "       'Zebulon, NC', 'Albemarle, NC', 'Burlington, NC', 'Salisbury, NC',\n",
       "       'Livingston, TN', 'Twin Brooks, NC', 'Ellenboro, NC', 'Lenoir, NC',\n",
       "       'Milledgeville, GA', 'Overton, TN', 'Greer, SC', 'Thomasville, NC',\n",
       "       'Jonesborough, TN', 'Blairsville, GA', 'Winston-Salem, NC',\n",
       "       'Atlanta, GA', 'Polk, NC', 'Dandridge, TN', 'Mooresville, NC',\n",
       "       'Campobello, SC', 'Marietta, SC', 'Spindale, NC', 'Landrum, SC',\n",
       "       'Green Mountain, NC', 'Del Rio, TN', 'Cleveland, SC',\n",
       "       'Union Mills, NC', 'Tuckasegee, NC', 'Hollywood, FL', 'Erwin, TN',\n",
       "       'Pickens, SC', 'Gerton, NC'], dtype=object)"
      ]
     },
     "execution_count": 7,
     "metadata": {},
     "output_type": "execute_result"
    }
   ],
   "source": [
    "df['Location'].unique()"
   ]
  },
  {
   "cell_type": "code",
   "execution_count": 19,
   "metadata": {},
   "outputs": [
    {
     "data": {
      "image/png": "[encoded data removed]",
      "text/plain": [
       "<matplotlib.figure.Figure at 0x11009d588>"
      ]
     },
     "metadata": {},
     "output_type": "display_data"
    }
   ],
   "source": [
    "#quick plot to visualize price range of values\n",
    "plt.figure(figsize=(12,12))\n",
    "plt.plot(df['Price'].values, '.')\n",
    "plt.title(\"Quick Plot of Items\")\n",
    "plt.ylabel(\"Price\")\n",
    "plt.xlabel(\"# of Items\")\n",
    "plt.show();"
   ]
  },
  {
   "cell_type": "code",
   "execution_count": null,
   "metadata": {
    "collapsed": true
   },
   "outputs": [],
   "source": []
  }
 ],
 "metadata": {
  "kernelspec": {
   "display_name": "Python 3",
   "language": "python",
   "name": "python3"
  },
  "language_info": {
   "codemirror_mode": {
    "name": "ipython",
    "version": 3
   },
   "file_extension": ".py",
   "mimetype": "text/x-python",
   "name": "python",
   "nbconvert_exporter": "python",
   "pygments_lexer": "ipython3",
   "version": "3.6.3"
  }
 },
 "nbformat": 4,
 "nbformat_minor": 2
}
